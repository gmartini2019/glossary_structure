{
 "cells": [
  {
   "cell_type": "code",
   "execution_count": 3,
   "metadata": {},
   "outputs": [],
   "source": [
    "from flask import Flask, request, jsonify\n",
    "import redis\n",
    "import csv\n",
    "import msgpack\n",
    "import pandas as pd\n",
    "import numpy as np\n",
    "import time\n",
    "import argparse\n",
    "import difflib\n",
    "import json\n",
    "import time\n",
    "import pickle\n",
    "from collections import defaultdict\n",
    "#import tensorflow\n",
    "#from keras_preprocessing.text import tokenizer_from_json\n",
    "#from keras.models import load_model\n",
    "#from keras_preprocessing.sequence import pad_sequences\n",
    "from neo4j import GraphDatabase\n",
    "from py2neo import Graph, Node, Relationship, NodeMatch, NodeMatcher\n",
    "import time"
   ]
  },
  {
   "cell_type": "code",
   "execution_count": 4,
   "metadata": {},
   "outputs": [],
   "source": [
    "uri = \"bolt://localhost:7687\"\n",
    "username = \"\"\n",
    "password = \"\"\n",
    "graph = Graph(\"bolt://localhost:7687\", auth=(username, password))"
   ]
  },
  {
   "cell_type": "code",
   "execution_count": 5,
   "metadata": {},
   "outputs": [],
   "source": [
    "def update_word_description(word, new_description, index_value=None):\n",
    "    query = \"\"\"\n",
    "    MATCH path=(root:TrieNode {letter:'root'})\n",
    "    \"\"\"\n",
    "    for letter in word:\n",
    "        query += f\"-[:HAS]->(:TrieNode {{letter:'{letter}'}})\"\n",
    "    if index_value is not None:\n",
    "        query += f\"\"\"\n",
    "        WITH nodes(path)[-1] AS word_node\n",
    "        SET word_node.description = $new_description\n",
    "        \"\"\"\n",
    "    else:\n",
    "        query += \"\"\"\n",
    "        WHERE last(nodes(path)).is_word = true\n",
    "        SET last(nodes(path)).description = $new_description\n",
    "        \"\"\"\n",
    "    graph.run(query, new_description=new_description) \n",
    "def get_word_description(word):\n",
    "    query_1 = \"\"\"\n",
    "    MATCH path=(root:TrieNode {letter:'root'})\n",
    "    \"\"\"\n",
    "    for letter in word:\n",
    "        query_1 += f\"-[:HAS]->(:TrieNode {{letter:'{letter}'}})\"\n",
    "    query_desc = query_1 + \"\"\"\n",
    "    WHERE last(nodes(path)).is_word = true\n",
    "    RETURN last(nodes(path)).description as description, last(nodes(path)).index_value as index_value\n",
    "    \"\"\"\n",
    "    results = graph.run(query_desc).data()\n",
    "    nodes = []\n",
    "    for result in results:\n",
    "        node = {}\n",
    "        node['description'] = result['description']\n",
    "        node['index_value'] = result['index_value']\n",
    "        nodes.append(node)\n",
    "    #print(f'Found {len(nodes)} instances of {word} with the following index values: {[node[\"index_value\"] for node in nodes]}')\n",
    "    if nodes:\n",
    "        return nodes\n",
    "    else:\n",
    "        return None\n",
    "def update_word_description_index(word, new_description, index_value=None, new_index_value=None):\n",
    "    query = \"\"\"\n",
    "    MATCH path=(root:TrieNode {letter:'root'})\n",
    "    \"\"\"\n",
    "    for letter in word:\n",
    "        query += f\"-[:HAS]->(:TrieNode {{letter:'{letter}'}})\"\n",
    "    if index_value is not None and new_index_value is not None:\n",
    "        query += f\"\"\"\n",
    "        WITH nodes(path)[-1] AS word_node\n",
    "        WHERE word_node.index_value = $index_value\n",
    "        SET word_node.description = $new_description, word_node.index_value = $new_index_value\n",
    "        \"\"\"\n",
    "        graph.run(query, index_value=index_value, new_description=new_description, new_index_value=new_index_value)\n",
    "    elif index_value is not None:\n",
    "        query += f\"\"\"\n",
    "        WITH nodes(path)[-1] AS word_node\n",
    "        WHERE word_node.index_value = $index_value\n",
    "        SET word_node.description = $new_description\n",
    "        \"\"\"\n",
    "        graph.run(query, index_value=index_value, new_description=new_description)\n",
    "    else:\n",
    "        query += \"\"\"\n",
    "        WHERE last(nodes(path)).is_word = true\n",
    "        SET last(nodes(path)).description = $new_description\n",
    "        \"\"\"\n",
    "        graph.run(query, new_description=new_description)\n",
    "from py2neo import Graph, Node, Relationship\n",
    "def update_description_lineage(word, new_description, index_value=None):\n",
    "    matcher = NodeMatcher(graph)\n",
    "\n",
    "    if index_value:\n",
    "        # find nodes with specific index value\n",
    "        nodes = list(matcher.match(word, index_value=index_value))\n",
    "    else:\n",
    "        # find nodes with specific word value\n",
    "        nodes = list(matcher.match(word))\n",
    "\n",
    "    for node in nodes:\n",
    "        # update node description\n",
    "        node['description'] = new_description\n",
    "        graph.push(node)\n",
    "\n",
    "        # Create a new relationship to track data lineage\n",
    "        updated_node = matcher.match(word, index_value=node['index_value']).first()\n",
    "        data_lineage_relationship = Relationship(updated_node, \"DERIVED_FROM\", node, \"DataSource\")\n",
    "        graph.create(data_lineage_relationship)"
   ]
  },
  {
   "cell_type": "code",
   "execution_count": 33,
   "metadata": {},
   "outputs": [],
   "source": [
    "update_description_lineage('Dextrus', 'desc', 'Blog' )"
   ]
  },
  {
   "cell_type": "code",
   "execution_count": 6,
   "metadata": {},
   "outputs": [],
   "source": [
    "def insert_in_neo4j(word, description, index_value = None):\n",
    "    # Insert the word and its description into Neo4j\n",
    "    # Start at the root node\n",
    "    root_node = Node(\"TrieNode\", letter=\"root\")\n",
    "\n",
    "    # Traverse Neo4j to find the node corresponding to the last character in the word\n",
    "    current_node = root_node\n",
    "    neo_node = None\n",
    "    for i, char in enumerate(word):\n",
    "        if neo_node is None:\n",
    "            # If this is the first iteration, start at the root\n",
    "            query = \"\"\"\n",
    "            MATCH (node:TrieNode {letter:$char})\n",
    "            WHERE id(node) = $parentId\n",
    "            RETURN node\n",
    "            \"\"\"\n",
    "            result = graph.evaluate(query, char=char, parentId=root_node.identity)\n",
    "        else:\n",
    "            # Otherwise, traverse the graph from the current node\n",
    "            query = \"\"\"\n",
    "            MATCH (parent:TrieNode)-[:HAS]->(child:TrieNode {letter:$char, index_value:$index_value})\n",
    "            WHERE id(parent) = $parentId\n",
    "            RETURN child\n",
    "            \"\"\"\n",
    "            result = graph.evaluate(query, char=char, index_value=index_value, parentId=neo_node.identity)\n",
    "\n",
    "        if result is None:\n",
    "            # If the node does not exist, create it and the relationship with its parent in Neo4j\n",
    "            child_neo_node = Node(\"TrieNode\", letter=char, is_word=(i == len(word) - 1),index_value=index_value)\n",
    "            if neo_node is None:\n",
    "                # If this is the first iteration, the root node is the parent\n",
    "                relationship = Relationship(root_node, \"HAS\", child_neo_node)\n",
    "            else:\n",
    "                relationship = Relationship(neo_node, \"HAS\", child_neo_node)\n",
    "            graph.create(child_neo_node)\n",
    "            graph.create(relationship)\n",
    "            neo_node = child_neo_node\n",
    "        else:\n",
    "            # If the node already exists, simply move to it in Neo4j\n",
    "            neo_node = result\n",
    "\n",
    "    # Set the description property of the node corresponding to the word in Neo4j\n",
    "    if neo_node['is_word']:\n",
    "        query = \"\"\"\n",
    "        MATCH (node:TrieNode)\n",
    "        WHERE id(node) = $nodeId\n",
    "        SET node.description = $description\n",
    "        SET node.word = $word\n",
    "        \"\"\"\n",
    "        graph.run(query, nodeId=neo_node.identity, word = word, description=description)"
   ]
  },
  {
   "attachments": {},
   "cell_type": "markdown",
   "metadata": {},
   "source": [
    "##### Let's define four different domains: \n",
    "- Blog\n",
    "- Videos \n",
    "- Products \n",
    "- Services "
   ]
  },
  {
   "cell_type": "code",
   "execution_count": 8,
   "metadata": {},
   "outputs": [],
   "source": [
    "indexes = ['Blog', 'Videos', 'Products', 'Services']\n",
    "\n",
    "def DISPLAY(word):\n",
    "    nodes = get_word_description(word)\n",
    "    if nodes == None:\n",
    "        number_nodes = 0\n",
    "    else:\n",
    "        number_nodes = len(nodes)\n",
    "    if number_nodes > 0:\n",
    "        print(f'The word {word} has been found {number_nodes} times in the following domains:')\n",
    "        for i in range(number_nodes):\n",
    "            instance = nodes[i]\n",
    "            print('In: ' + instance['index_value'] + ' --> ' + instance['description'])\n",
    "    else:\n",
    "        print('The result has not been found anywhere. Would you like to define it? Press ENTER if no, or insert your description and where you would like to place it.')\n",
    "        description = input()\n",
    "        if description == '':\n",
    "            print('Sorry for the trouble')\n",
    "        else: \n",
    "            count = 1\n",
    "            for i in range(len(indexes)):\n",
    "                print(str(count) + '. ' + indexes[i])\n",
    "                count += 1\n",
    "            index_choice = input()\n",
    "            index = indexes[int(index_choice) - 1]\n",
    "            insert_in_neo4j(word, description, index)"
   ]
  },
  {
   "attachments": {},
   "cell_type": "markdown",
   "metadata": {},
   "source": [
    "##### Let's place a few nodes in the tree, one for each domain.\n",
    "Some of the nodes are going to be overlapping in name. \n",
    "\n",
    "In _Blog_:\n",
    "- Dextrus --> RightData\"s second product.\n",
    "- Lineage --> A newfound property of data.\n",
    "- The Leadership --> Meet the leadership team.\n",
    "- Updates -->  Learn the team's updates.\n",
    "\n",
    "In _Videos_:\n",
    "- Dextrus --> Dextrus demonstration.\n",
    "- Rdt -->  Rdt demonstration.\n",
    "- The Leadership --> Meet the leadership team.\n",
    "- Atlanta --> Take a look at the HQ. \n",
    "\n",
    "In _Products_:\n",
    "- Dextrus --> RightData's second product.\n",
    "- Rdt --> RightData's first product. \n",
    "- NILE -->  SaaSification of RightData products.\n",
    "- fuzzy search --> Similarity between strings.\n",
    "\n",
    "In _Services_:\n",
    "- NILE -->  SaaSification of RightData products.\n",
    "- Consultation - Rdt -->  Consultation for the Rdt product.\n",
    "- Consultation - Dextrus -->  Consultation for the Dextrus product. \n",
    "- Installation --> Installation of both services. \n"
   ]
  },
  {
   "cell_type": "code",
   "execution_count": 9,
   "metadata": {},
   "outputs": [],
   "source": [
    "start_blog = time.time()\n",
    "insert_in_neo4j('Dextrus', 'RightData\"s second product', 'Blog')\n",
    "insert_in_neo4j('Lineage', 'A newfound property of data', 'Blog')\n",
    "insert_in_neo4j('The Leadership', 'Meet the leadership team', 'Blog')\n",
    "insert_in_neo4j('Updates', 'earn the team\"s updates', 'Blog')\n",
    "end_blog = time.time()\n",
    "\n",
    "blog_time = end_blog - start_blog"
   ]
  },
  {
   "cell_type": "code",
   "execution_count": 11,
   "metadata": {},
   "outputs": [],
   "source": [
    "start_video = time.time()\n",
    "insert_in_neo4j('Dextrus', 'Dextrus demonstration', 'Videos')\n",
    "insert_in_neo4j('Rdt', 'Rdt demonstration', 'Videos')\n",
    "insert_in_neo4j('The Leadership', 'Meet the leadership team', 'Videos')\n",
    "insert_in_neo4j('Atlanta', 'Take a look at the HQ', 'Videos')\n",
    "end_video = time.time()\n",
    "video_time = end_video - start_video"
   ]
  },
  {
   "cell_type": "code",
   "execution_count": 24,
   "metadata": {},
   "outputs": [],
   "source": [
    "start_products = time.time()\n",
    "insert_in_neo4j('Dextrus', 'RightData\"s second product', 'Products')\n",
    "insert_in_neo4j('Rdt', 'RightData\"s first product', 'Products')\n",
    "insert_in_neo4j('NILE', 'SaaSification of RightData products', 'Products')\n",
    "insert_in_neo4j('fuzzy search', 'Similarity between two strings', 'Products')\n",
    "end_products = time.time()\n",
    "products_time = end_products - start_products"
   ]
  },
  {
   "cell_type": "code",
   "execution_count": 18,
   "metadata": {},
   "outputs": [],
   "source": [
    "start_services = time.time()\n",
    "insert_in_neo4j('NILE', 'SaaSification of RightData products', 'Services')\n",
    "insert_in_neo4j('Consultation-Rdt', 'Consultation for the Rdt product', 'Services')\n",
    "insert_in_neo4j('Consultation-Dextrus', 'Consultation for the Dextrus product', 'Services')\n",
    "insert_in_neo4j('Installation', 'Installation of both services', 'Services')\n",
    "end_services = time.time()\n",
    "\n",
    "services_time = end_services - start_services"
   ]
  },
  {
   "cell_type": "code",
   "execution_count": 26,
   "metadata": {},
   "outputs": [
    {
     "name": "stdout",
     "output_type": "stream",
     "text": [
      "Time it took to complete the following insertions:\n",
      "For the \"Blog\" domain: 0.5012834072113037\n",
      "For the \"Videos\" domain: 0.5275223255157471\n",
      "For the \"Products\" domain: 0.3205840587615967\n",
      "For the \"Services\" domain: 1.411466360092163\n"
     ]
    }
   ],
   "source": [
    "print('Time it took to complete the following insertions:')\n",
    "print(f'For the \"Blog\" domain: {blog_time}')\n",
    "print(f'For the \"Videos\" domain: {video_time}')\n",
    "print(f'For the \"Products\" domain: {products_time}')\n",
    "print(f'For the \"Services\" domain: {services_time}')"
   ]
  },
  {
   "cell_type": "code",
   "execution_count": 34,
   "metadata": {},
   "outputs": [
    {
     "name": "stdout",
     "output_type": "stream",
     "text": [
      "The word Dextrus has been found 3 times in the following domains:\n",
      "In: Blog --> desc\n",
      "In: Videos --> Dextrus demonstration\n",
      "In: Products --> RightData\"s second product\n"
     ]
    }
   ],
   "source": [
    "DISPLAY('Dextrus')"
   ]
  },
  {
   "cell_type": "code",
   "execution_count": 9,
   "metadata": {},
   "outputs": [
    {
     "name": "stdout",
     "output_type": "stream",
     "text": [
      "The word NILE has been found 2 times in the following domains:\n",
      "In: Services --> SaaSification of RightData products\n",
      "In: Products --> SaaSification of RightData products\n"
     ]
    }
   ],
   "source": [
    "DISPLAY('NILE')"
   ]
  },
  {
   "cell_type": "code",
   "execution_count": 11,
   "metadata": {},
   "outputs": [
    {
     "name": "stdout",
     "output_type": "stream",
     "text": [
      "The word The Leadership has been found 2 times in the following domains:\n",
      "In: Blog --> Meet the leadership team\n",
      "In: Videos --> Meet the leadership team\n"
     ]
    }
   ],
   "source": [
    "DISPLAY('The Leadership')"
   ]
  },
  {
   "cell_type": "code",
   "execution_count": 12,
   "metadata": {},
   "outputs": [],
   "source": [
    "# Define a function to retrieve the transformations over time for a node\n",
    "def get_transformations_over_time(node_name):\n",
    "    query = f\"MATCH (n:Node {{name: '{node_name}'}})-[:DERIVED_FROM*]->(m:Node) RETURN m.name, m.description, m.timestamp ORDER BY m.timestamp\"\n",
    "    results = graph.run(query)\n",
    "    transformations = []\n",
    "    for result in results:\n",
    "        transformation = {\"name\": result[\"m.name\"], \"description\": result[\"m.description\"], \"timestamp\": result[\"m.timestamp\"]}\n",
    "        transformations.append(transformation)\n",
    "    return transformations\n",
    "# Example usage\n",
    "transformations = get_transformations_over_time(\"Dextrus\")\n",
    "for transformation in transformations:\n",
    "    \n",
    "    print(transformation)"
   ]
  }
 ],
 "metadata": {
  "kernelspec": {
   "display_name": "bruce_environment",
   "language": "python",
   "name": "python3"
  },
  "language_info": {
   "codemirror_mode": {
    "name": "ipython",
    "version": 3
   },
   "file_extension": ".py",
   "mimetype": "text/x-python",
   "name": "python",
   "nbconvert_exporter": "python",
   "pygments_lexer": "ipython3",
   "version": "3.7.13"
  },
  "orig_nbformat": 4
 },
 "nbformat": 4,
 "nbformat_minor": 2
}
