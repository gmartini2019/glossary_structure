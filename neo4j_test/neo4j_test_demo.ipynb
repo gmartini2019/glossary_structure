{
 "cells": [
  {
   "cell_type": "code",
   "execution_count": 35,
   "metadata": {},
   "outputs": [],
   "source": [
    "from flask import Flask, request, jsonify\n",
    "import redis\n",
    "import csv\n",
    "import msgpack\n",
    "import pandas as pd\n",
    "import numpy as np\n",
    "import time\n",
    "import argparse\n",
    "import difflib\n",
    "import json\n",
    "import time\n",
    "import pickle\n",
    "from collections import defaultdict\n",
    "from collections import deque\n",
    "import tensorflow\n",
    "from keras_preprocessing.text import tokenizer_from_json\n",
    "from keras.models import load_model\n",
    "from keras_preprocessing.sequence import pad_sequences\n",
    "from neo4j import GraphDatabase\n",
    "from py2neo import Graph, Node, Relationship, NodeMatch, NodeMatcher\n",
    "from pyjarowinkler import distance\n",
    "import itertools"
   ]
  },
  {
   "cell_type": "code",
   "execution_count": 4,
   "metadata": {},
   "outputs": [],
   "source": [
    "with open('../english_dict.pkl', 'rb') as f:\n",
    "    loaded_dict = pickle.load(f)"
   ]
  },
  {
   "cell_type": "code",
   "execution_count": 5,
   "metadata": {},
   "outputs": [
    {
     "data": {
      "text/plain": [
       "'trying something to find out about it'"
      ]
     },
     "execution_count": 5,
     "metadata": {},
     "output_type": "execute_result"
    }
   ],
   "source": [
    "loaded_dict['test']"
   ]
  },
  {
   "cell_type": "code",
   "execution_count": 7,
   "metadata": {},
   "outputs": [],
   "source": [
    "def from_df_to_dict(df):\n",
    "        first_column = df.iloc[:, 0].tolist()\n",
    "        second_column = df.iloc[:, 1].tolist()\n",
    "        #dict_object = my_dictionary()\n",
    "        dict_object = defaultdict()\n",
    "        for i in range(len(first_column)):\n",
    "            dict_object[first_column[i]]=  second_column[i]\n",
    "        \n",
    "        return dict_object"
   ]
  },
  {
   "cell_type": "code",
   "execution_count": 8,
   "metadata": {},
   "outputs": [],
   "source": [
    "vasu_df = pd.read_csv('../vasu_df.csv')"
   ]
  },
  {
   "cell_type": "code",
   "execution_count": 9,
   "metadata": {},
   "outputs": [],
   "source": [
    "vasu_dict = from_df_to_dict(vasu_df)"
   ]
  },
  {
   "cell_type": "code",
   "execution_count": 67,
   "metadata": {},
   "outputs": [],
   "source": [
    "small_dict = defaultdict(str)\n",
    "words = [\"name\", \"test\", \"field\", \"number\", \"best\", \"cook\", \"laptop\", \"dev\", \"production\", \"small\"]\n",
    "for i in range(len(words)):\n",
    "    small_dict[words[i]] = f\"{i}\""
   ]
  },
  {
   "cell_type": "code",
   "execution_count": 122,
   "metadata": {},
   "outputs": [],
   "source": [
    "uri = \"bolt://localhost:7687\"\n",
    "username = \"neo4j\"\n",
    "password = \"password\""
   ]
  },
  {
   "cell_type": "code",
   "execution_count": 141,
   "metadata": {},
   "outputs": [],
   "source": [
    "graph = Graph(uri, auth=(username, password))"
   ]
  },
  {
   "cell_type": "code",
   "execution_count": 69,
   "metadata": {},
   "outputs": [],
   "source": [
    "def importDict_neo4j(dict_test):\n",
    "    root_node = Node(\"business_modeler_terms\", name=\"\", description=\"\")\n",
    "    graph.create(root_node)\n",
    "\n",
    "    for word, definition in dict_test.items():\n",
    "        node = Node(\"business_modeler_terms\", name=word, description=definition)\n",
    "        graph.create(node)\n",
    "        relationship = Relationship(root_node, \"HAS\", node)\n",
    "        graph.create(relationship)"
   ]
  },
  {
   "cell_type": "code",
   "execution_count": 70,
   "metadata": {},
   "outputs": [],
   "source": [
    "importDict_neo4j(small_dict)"
   ]
  },
  {
   "cell_type": "code",
   "execution_count": 19,
   "metadata": {},
   "outputs": [],
   "source": [
    "def get_words_from_graph():\n",
    "    matcher = NodeMatcher(graph)\n",
    "    nodes = matcher.match(\"business_modeler_terms\").where(\"_.name <> ''\")\n",
    "    return [node[\"name\"] for node in nodes]"
   ]
  },
  {
   "cell_type": "code",
   "execution_count": 86,
   "metadata": {},
   "outputs": [],
   "source": [
    "def search_node_in_graph(word):\n",
    "    query = \"MATCH (n:business_modeler_terms) WHERE toLower(n.name) = toLower($word) RETURN n.description AS description\"\n",
    "    result = graph.run(query, word=word).data()\n",
    "    description = result[0]['description'] if result else None\n",
    "    return description"
   ]
  },
  {
   "cell_type": "code",
   "execution_count": 131,
   "metadata": {},
   "outputs": [
    {
     "data": {
      "text/plain": [
       "'1'"
      ]
     },
     "execution_count": 131,
     "metadata": {},
     "output_type": "execute_result"
    }
   ],
   "source": [
    "search_node_in_graph(\"test\")"
   ]
  },
  {
   "cell_type": "code",
   "execution_count": 36,
   "metadata": {},
   "outputs": [],
   "source": [
    "def get_close_matches_icase(word, possibilities, *args, **kwargs):\n",
    "    \"\"\" Case-insensitive version of difflib.get_close_matches \"\"\"\n",
    "    lword = word.lower()\n",
    "    lpos = {}\n",
    "    for p in possibilities:\n",
    "        if p.lower() not in lpos:\n",
    "            lpos[p.lower()] = [p]\n",
    "        else:\n",
    "            lpos[p.lower()].append(p)\n",
    "    lmatches = difflib.get_close_matches(lword, lpos.keys(), *args, **kwargs)\n",
    "    ret = [lpos[m] for m in lmatches]\n",
    "    ret = itertools.chain.from_iterable(ret)\n",
    "    return set(ret)"
   ]
  },
  {
   "cell_type": "code",
   "execution_count": 113,
   "metadata": {},
   "outputs": [],
   "source": [
    "def fuzzy_search(word, cutoff, n):\n",
    "    exact = search_node_in_graph(word)\n",
    "    if exact == None:\n",
    "        results = get_close_matches_icase(word, get_words_from_graph(), n=n, cutoff=cutoff)\n",
    "        res = {result: (search_node_in_graph(result), difflib.SequenceMatcher(None, word.lower(), result.lower()).ratio()) for result in results}\n",
    "        return dict(sorted(res.items(), key=lambda item: item[1][1], reverse=True))\n",
    "    return {word: exact}"
   ]
  },
  {
   "cell_type": "code",
   "execution_count": 139,
   "metadata": {},
   "outputs": [
    {
     "data": {
      "text/plain": [
       "{'CAPTEST': ('capital', 0.7272727272727273), 'laptop': ('6', 0.6)}"
      ]
     },
     "execution_count": 139,
     "metadata": {},
     "output_type": "execute_result"
    }
   ],
   "source": [
    "fuzzy_search(\"capt\", 0.6, 10)"
   ]
  },
  {
   "cell_type": "code",
   "execution_count": 159,
   "metadata": {},
   "outputs": [],
   "source": [
    "def fuzzy_full_text_search(word, n):\n",
    "    query = \"\"\"\n",
    "        CALL db.index.fulltext.queryNodes(\"businessGlossaryIndex\", $word, {limit:$n}) YIELD node, score \n",
    "        RETURN node.name, node.description, score\n",
    "    \"\"\"\n",
    "    parameters = {\"word\": word + \"~\", \"n\": n}\n",
    "    return graph.run(query, parameters=parameters).data()\n"
   ]
  },
  {
   "cell_type": "code",
   "execution_count": 162,
   "metadata": {},
   "outputs": [
    {
     "data": {
      "text/plain": [
       "[{'node.name': 'best', 'node.description': '4', 'score': 0.8276413679122925},\n",
       " {'node.name': 'test', 'node.description': '1', 'score': 0.8276413679122925}]"
      ]
     },
     "execution_count": 162,
     "metadata": {},
     "output_type": "execute_result"
    }
   ],
   "source": [
    "fuzzy_full_text_search(\"lest\", 2)"
   ]
  },
  {
   "cell_type": "code",
   "execution_count": 31,
   "metadata": {},
   "outputs": [],
   "source": [
    "def update_description(word, new_description):\n",
    "    query = \"MATCH (n:business_modeler_terms {name: $word}) SET n.description = $new_description\"\n",
    "    graph.run(query, word=word, new_description=new_description)"
   ]
  },
  {
   "cell_type": "code",
   "execution_count": 32,
   "metadata": {},
   "outputs": [],
   "source": [
    "update_description(\"test\", \"TEST NEW DESC\")"
   ]
  },
  {
   "cell_type": "code",
   "execution_count": 29,
   "metadata": {},
   "outputs": [],
   "source": [
    "def insert_node(word, description):\n",
    "    node = Node(\"business_modeler_terms\", name=word, description=description)\n",
    "    graph.create(node)\n",
    "\n",
    "    root_node = graph.nodes.match(\"business_modeler_terms\", name=\"\", description=\"\").first()\n",
    "    relationship = Relationship(root_node, \"HAS\", node)\n",
    "\n",
    "    graph.create(relationship)"
   ]
  },
  {
   "cell_type": "code",
   "execution_count": 76,
   "metadata": {},
   "outputs": [],
   "source": [
    "insert_node(\"CAPTEST\", \"capital\")"
   ]
  },
  {
   "cell_type": "code",
   "execution_count": 73,
   "metadata": {},
   "outputs": [],
   "source": [
    "def insert_dict(to_insert):\n",
    "    for word, desc in to_insert.items():\n",
    "        insert_node(word, desc)"
   ]
  },
  {
   "cell_type": "code",
   "execution_count": 74,
   "metadata": {},
   "outputs": [],
   "source": [
    "another_small_dict = {\"woo\": \"I1\", \"again\": \"I2\", \"last\": \"I3\"}"
   ]
  },
  {
   "cell_type": "code",
   "execution_count": 75,
   "metadata": {},
   "outputs": [],
   "source": [
    "insert_dict(another_small_dict)"
   ]
  }
 ],
 "metadata": {
  "kernelspec": {
   "display_name": "tensorflow",
   "language": "python",
   "name": "python3"
  },
  "language_info": {
   "codemirror_mode": {
    "name": "ipython",
    "version": 3
   },
   "file_extension": ".py",
   "mimetype": "text/x-python",
   "name": "python",
   "nbconvert_exporter": "python",
   "pygments_lexer": "ipython3",
   "version": "3.10.9"
  },
  "orig_nbformat": 4,
  "vscode": {
   "interpreter": {
    "hash": "51fd4c9f61403266accd47e38530b8b1a9027e7d22e7f47b0f817faebb1fe260"
   }
  }
 },
 "nbformat": 4,
 "nbformat_minor": 2
}
