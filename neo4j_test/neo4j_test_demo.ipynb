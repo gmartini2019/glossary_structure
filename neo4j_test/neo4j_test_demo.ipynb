{
 "cells": [
  {
   "cell_type": "code",
   "execution_count": 69,
   "metadata": {},
   "outputs": [],
   "source": [
    "from flask import Flask, request, jsonify\n",
    "import redis\n",
    "import csv\n",
    "import msgpack\n",
    "import pandas as pd\n",
    "import numpy as np\n",
    "import time\n",
    "import argparse\n",
    "import difflib\n",
    "import json\n",
    "import time\n",
    "import pickle\n",
    "from collections import defaultdict\n",
    "import tensorflow\n",
    "from keras_preprocessing.text import tokenizer_from_json\n",
    "from keras.models import load_model\n",
    "from keras_preprocessing.sequence import pad_sequences\n",
    "from neo4j import GraphDatabase\n",
    "from py2neo import Graph, Node, Relationship, NodeMatch, NodeMatcher"
   ]
  },
  {
   "cell_type": "code",
   "execution_count": 9,
   "metadata": {},
   "outputs": [],
   "source": [
    "class TrieNode_dict:\n",
    "    def __init__(self):\n",
    "        self.children = defaultdict(TrieNode_dict)\n",
    "        self.is_word = False\n",
    "        self.description = None\n",
    "        \n",
    "\n",
    "class Trie_dict:\n",
    "    def __init__(self):\n",
    "        self.root = TrieNode_dict()\n",
    "        self.count = 0\n",
    "        \n",
    "    def insert(self, word, description=None):\n",
    "        current = self.root\n",
    "        for char in word:\n",
    "            current = current.children[char]\n",
    "        if not current.is_word:\n",
    "            current.is_word = True\n",
    "            self.count += 1\n",
    "        current.description = description\n",
    "    \n",
    "    def search(self, word):\n",
    "        current = self.root\n",
    "        for char in word:\n",
    "            if char not in current.children:\n",
    "                return None\n",
    "            current = current.children[char]\n",
    "        if current.is_word:\n",
    "            return current.description\n",
    "        return None\n",
    "\n",
    "    def insert_list(self, lst):\n",
    "        for word in lst:\n",
    "            self.insert(word) \n",
    "\n",
    "    def size(self):\n",
    "        return self.count\n",
    "    \n",
    "    def insert_dict(self, dict_obj):\n",
    "        for key, definition in dict_obj.items():\n",
    "            self.insert(key, definition)\n",
    "    \n",
    "    def fuzzy_search(self, word, cutoff=0.6):\n",
    "        results = difflib.get_close_matches(word, self.words(), n=10, cutoff=cutoff)\n",
    "        return {result: (self.search(result), difflib.SequenceMatcher(None, word, result).ratio()) for result in results}\n",
    "        \n",
    "    def words(self):\n",
    "        words = []\n",
    "        def dfs(node, word):\n",
    "            if node.is_word:\n",
    "                words.append(word)\n",
    "            for char in node.children:\n",
    "                dfs(node.children[char], word + char)\n",
    "        dfs(self.root, \"\")\n",
    "        return words\n",
    "    "
   ]
  },
  {
   "cell_type": "code",
   "execution_count": 3,
   "metadata": {},
   "outputs": [],
   "source": [
    "with open('../english_dict.pkl', 'rb') as f:\n",
    "    loaded_dict = pickle.load(f)"
   ]
  },
  {
   "cell_type": "code",
   "execution_count": 10,
   "metadata": {},
   "outputs": [
    {
     "data": {
      "text/plain": [
       "'trying something to find out about it'"
      ]
     },
     "execution_count": 10,
     "metadata": {},
     "output_type": "execute_result"
    }
   ],
   "source": [
    "loaded_dict['test']"
   ]
  },
  {
   "cell_type": "code",
   "execution_count": 11,
   "metadata": {},
   "outputs": [],
   "source": [
    "trie_dict_test = Trie_dict()\n",
    "trie_dict_test.insert_dict(loaded_dict)"
   ]
  },
  {
   "cell_type": "code",
   "execution_count": 12,
   "metadata": {},
   "outputs": [
    {
     "data": {
      "text/plain": [
       "{'ab': (\"a bachelor's degree in arts and sciences\", 1.0),\n",
       " 'tab': ('the bill in a restaurant', 0.8),\n",
       " 'nab': ('tag the base runner to get him out', 0.8),\n",
       " 'lab': ('a workplace for the conduct of scientific research', 0.8),\n",
       " 'jab': ('a sharp hand gesture (resembling a blow)', 0.8),\n",
       " 'gab': ('light informal conversation for social occasions', 0.8),\n",
       " 'fab': ('extremely pleasing', 0.8),\n",
       " 'dab': ('a light touch or stroke', 0.8),\n",
       " 'cab': ('a compartment at the front of a motor vehicle or locomotive where driver sits',\n",
       "  0.8),\n",
       " 'arb': ('someone who engages in arbitrage (who purchases securities in one market for immediate resale in another in the hope of profiting from the price differential)',\n",
       "  0.8)}"
      ]
     },
     "execution_count": 12,
     "metadata": {},
     "output_type": "execute_result"
    }
   ],
   "source": [
    "trie_dict_test.fuzzy_search(\"ab\")"
   ]
  },
  {
   "cell_type": "code",
   "execution_count": 13,
   "metadata": {},
   "outputs": [],
   "source": [
    "uri = \"bolt://localhost:7687\"\n",
    "username = \"neo4j\"\n",
    "password = \"password\""
   ]
  },
  {
   "cell_type": "code",
   "execution_count": 79,
   "metadata": {},
   "outputs": [],
   "source": [
    "graph = Graph(\"bolt://localhost:7687\", auth=(username, password))"
   ]
  },
  {
   "cell_type": "code",
   "execution_count": 17,
   "metadata": {},
   "outputs": [],
   "source": [
    "def create_nodes_and_relationships(trie):\n",
    "    root_node = Node(\"TrieNode\", letter=\"root\")\n",
    "    graph.create(root_node)\n",
    "    stack = [(trie.root, root_node)]\n",
    "    while stack:\n",
    "        trie_node, neo_node = stack.pop()\n",
    "        for letter, child_node in trie_node.children.items():\n",
    "            child_neo_node = Node(\"TrieNode\", letter=letter, is_word=child_node.is_word, description=child_node.description)\n",
    "            relationship = Relationship(neo_node, \"HAS\", child_neo_node)\n",
    "            graph.create(child_neo_node)\n",
    "            graph.create(relationship)\n",
    "            stack.append((child_node, child_neo_node))"
   ]
  },
  {
   "cell_type": "code",
   "execution_count": 18,
   "metadata": {},
   "outputs": [],
   "source": [
    "create_nodes_and_relationships(trie_dict_test)"
   ]
  },
  {
   "cell_type": "code",
   "execution_count": 67,
   "metadata": {},
   "outputs": [],
   "source": [
    "\n",
    "def get_word_description(word):\n",
    "    query = \"\"\"\n",
    "    MATCH path=(root:TrieNode {letter:'root'})\n",
    "    \"\"\"\n",
    "    for letter in word:\n",
    "        query += f\"-[:HAS]->(:TrieNode {{letter:'{letter}'}})\"\n",
    "    query += \"\"\"\n",
    "    WHERE last(nodes(path)).is_word = true\n",
    "    RETURN last(nodes(path)).description as description\n",
    "    \"\"\"\n",
    "    result = graph.evaluate(query)\n",
    "    if result:\n",
    "        return result\n",
    "    else:\n",
    "        return None"
   ]
  },
  {
   "cell_type": "code",
   "execution_count": 82,
   "metadata": {},
   "outputs": [
    {
     "name": "stdout",
     "output_type": "stream",
     "text": [
      "test web site reconnect\n"
     ]
    }
   ],
   "source": [
    "print(get_word_description(\"a\"))"
   ]
  },
  {
   "cell_type": "code",
   "execution_count": 25,
   "metadata": {},
   "outputs": [],
   "source": [
    "def update_word_description(word, new_description):\n",
    "    query = \"\"\"\n",
    "    MATCH path=(root:TrieNode {letter:'root'})\n",
    "    \"\"\"\n",
    "    for letter in word:\n",
    "        query += f\"-[:HAS]->(:TrieNode {{letter:'{letter}'}})\"\n",
    "    query += \"\"\"\n",
    "    WHERE last(nodes(path)).is_word = true\n",
    "    SET last(nodes(path)).description = $new_description\n",
    "    \"\"\"\n",
    "    graph.run(query, new_description=new_description)"
   ]
  },
  {
   "cell_type": "code",
   "execution_count": 81,
   "metadata": {},
   "outputs": [],
   "source": [
    "update_word_description(\"a\", \"test web site reconnect\")"
   ]
  },
  {
   "cell_type": "code",
   "execution_count": null,
   "metadata": {},
   "outputs": [],
   "source": [
    "class MLModel:\n",
    "    def __init__(self):\n",
    "        pass\n",
    "\n",
    "    def tokenizerImport(self):\n",
    "        with open('tokenizer.json') as f:\n",
    "            data = json.load(f)\n",
    "            tokenizer = tokenizer_from_json(data)\n",
    "        return tokenizer\n",
    "    \n",
    "    def modelImport(self):\n",
    "        model = load_model('model_general_1.h5')\n",
    "        return model\n",
    "        \n",
    "    def build_definition(self, seed_text, tokenizer, next_words, model, max_sequence_len):\n",
    "        res = []\n",
    "        for _ in range(next_words):\n",
    "            token_list = tokenizer.texts_to_sequences([seed_text])[0]\n",
    "            token_list = pad_sequences([token_list], maxlen=max_sequence_len-1, padding='pre')\n",
    "            predicted = model.predict(token_list)\n",
    "            predicted = np.argmax(predicted, axis = 1)\n",
    "            \n",
    "            output_word = \"\"\n",
    "            for word,index in tokenizer.word_index.items():\n",
    "                if index == predicted:\n",
    "                    output_word = word\n",
    "                    break\n",
    "            res.append(output_word)\n",
    "            seed_text += \" \" + output_word\n",
    "        return res"
   ]
  },
  {
   "cell_type": "code",
   "execution_count": null,
   "metadata": {},
   "outputs": [],
   "source": [
    "def navigate_trie(trie_dict):\n",
    "    # ML_used = False\n",
    "    # Prompt the user to enter a search term\n",
    "    print('Enter the term for which you would like the definition')\n",
    "    search = input()\n",
    "    \n",
    "    # Use the trie data structure to perform a fuzzy search on the search term\n",
    "    search_result = list(trie_dict.fuzzy_search(search))\n",
    "    list_length = len(search_result)\n",
    "    \n",
    "    # If the search term is not found in the trie, prompt the user to define it\n",
    "    if list_length == 0:\n",
    "        print('It is not in our list, please define it yourself')\n",
    "        definition = input()\n",
    "        #fine_tune(search, definition)\n",
    "        print(f\"Thanks, I've learned the definition of '{search}'.\")\n",
    "        \n",
    "    # If the search term is found in the trie, present the user with a list of search results\n",
    "    else:\n",
    "        for i, item in enumerate(search_result):\n",
    "            print(f\"{i+1}. {item}\")\n",
    "        \n",
    "        # Prompt the user to select a search result from the list\n",
    "        print('If the desired item is in the list, type Y')\n",
    "        choice = input()\n",
    "        if choice == 'Y':\n",
    "            print('Now type the number associated to the desired term')\n",
    "            user_choice = int(input())\n",
    "            \n",
    "            # Ensure that the user's choice is a valid index in the list of search results\n",
    "            1 <= user_choice <= len(search_result)\n",
    "            selected_item = search_result[user_choice - 1]\n",
    "            print(f\"You selected: {selected_item}\")\n",
    "            \n",
    "            # Look up the definition of the selected term in the trie data structure\n",
    "            word_definition = trie_dict.search(selected_item)\n",
    "            \n",
    "            # If the term has no definition in the trie, prompt the user to define it\n",
    "            if word_definition == None:\n",
    "                print(f'No previous definition has been found, however {selected_item} is commonly referred to as:\\n ')\n",
    "                print(get_definition(selected_item))\n",
    "                print('Now you can define it yourself')\n",
    "                custom_definition = input()\n",
    "                trie_dict.insert(selected_item, custom_definition)\n",
    "                print('Thank you, I learned a new word!')\n",
    "            \n",
    "            # If the term has a definition in the trie, present the definition to the user and prompt for redefinition\n",
    "            else:\n",
    "                print(f'The definition for {selected_item} is : {word_definition}')\n",
    "                print(f'Do you like it? Type \"Y\" if so, if not you\"ll redefine it')\n",
    "                redefinition_choice = input()\n",
    "                \n",
    "                # If the user chooses to redefine the term, prompt for a new definition and update the trie\n",
    "                if redefinition_choice != 'Y':\n",
    "                    print('Type it in:')\n",
    "                    custom_definition = input()\n",
    "                    trie_dict.insert(selected_item, custom_definition)\n",
    "                    print('Thank you, I learned a new word!')\n",
    "        else:\n",
    "            print(f'Run ML model? (Type \"Y\" for yes and \"N\" for no)')\n",
    "            runChoice = input()\n",
    "            if runChoice == \"Y\":\n",
    "                print(f'\"{search}\" is not in the list, running ML model to generate definition')\n",
    "                ml_model = MLModel()\n",
    "                tokenizer = ml_model.tokenizerImport()\n",
    "                model = ml_model.modelImport()\n",
    "                res = ml_model.build_definition(search, tokenizer, 5, model, 54)\n",
    "                \n",
    "                for i in range(len(res)):\n",
    "                    print(f\"{i+1}. {res[i]}\")\n",
    "                \n",
    "                print(f'If you see a definition that you are satisfied with, select the corresponding number - else if you are not satisifed with any option, type \"N\": ')\n",
    "                mlChoice = input()\n",
    "\n",
    "                if mlChoice != 'N':\n",
    "                    trie_dict.insert(search, res[int(mlChoice)])\n",
    "                else:\n",
    "                    print('Add your own definition: ')\n",
    "                    definition_nbs = input()\n",
    "                    trie_dict.insert(search, definition_nbs)\n",
    "            else:\n",
    "                print('Add your own definition: ')\n",
    "                definition_nbs = input()\n",
    "                trie_dict.insert(search, definition_nbs)\n",
    "            "
   ]
  }
 ],
 "metadata": {
  "kernelspec": {
   "display_name": "Python 3.10 (tensorflow)",
   "language": "python",
   "name": "tensorflow"
  },
  "language_info": {
   "codemirror_mode": {
    "name": "ipython",
    "version": 3
   },
   "file_extension": ".py",
   "mimetype": "text/x-python",
   "name": "python",
   "nbconvert_exporter": "python",
   "pygments_lexer": "ipython3",
   "version": "3.10.9"
  },
  "orig_nbformat": 4,
  "vscode": {
   "interpreter": {
    "hash": "b9b4a2bb493eda419a542eae9e195fcc22a0fd830f7d7e5d4eaaa6ec7ed188b8"
   }
  }
 },
 "nbformat": 4,
 "nbformat_minor": 2
}
