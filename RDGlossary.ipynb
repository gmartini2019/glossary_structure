{
 "cells": [
  {
   "cell_type": "code",
   "execution_count": 16,
   "metadata": {},
   "outputs": [],
   "source": [
    "import pandas as pd\n",
    "import numpy as np \n",
    "import pydot\n",
    "import networkx as nx\n",
    "import matplotlib.pyplot as plt\n",
    "import seaborn as sb \n",
    "import json\n"
   ]
  },
  {
   "cell_type": "code",
   "execution_count": 88,
   "metadata": {},
   "outputs": [],
   "source": [
    "def create_tree():\n",
    "    tree = {\"Field\": \"Root\", \"Parent\": None, \"Description\": \"This is the root node\", \"children\": []}\n",
    "    return tree\n",
    "\n",
    "def add_node(tree, description, field, parent=None):\n",
    "    node = {\"Field\": field, \"Description\": description, \"Parent\": parent, \"children\": []}\n",
    "    parent_node = search_node(tree, parent)\n",
    "    if parent_node:\n",
    "        parent_node[\"children\"].append(node)\n",
    "    else:\n",
    "        tree[\"children\"].append(node)\n",
    "    return tree\n",
    "    \n",
    "def search_node(tree, key):\n",
    "    if tree[\"Field\"] == key:\n",
    "        return tree\n",
    "    for child in tree[\"children\"]:\n",
    "        result = search_node(child, key)\n",
    "        if result:\n",
    "            return result\n",
    "    return None\n",
    "\n",
    "def remove_node(tree, key):\n",
    "    node = search_node(tree, key)\n",
    "    if not node:\n",
    "        return None\n",
    "\n",
    "    parent = node['Parent']\n",
    "    parent['children'].remove(node)\n",
    "    for child in node['children']:\n",
    "        child['Parent'] = parent\n",
    "        parent['children'].append(child)\n",
    "    return tree\n",
    "\n",
    "def modify_node(tree, Field, new_key, new_description):\n",
    "    node = search_node(tree, Field)\n",
    "    if node:\n",
    "        node[\"Field\"] = new_key\n",
    "        node[\"description\"] = new_description\n",
    "        return True\n",
    "    return False\n",
    "\n"
   ]
  },
  {
   "cell_type": "code",
   "execution_count": 76,
   "metadata": {},
   "outputs": [
    {
     "data": {
      "text/plain": [
       "{'Field': 'Root',\n",
       " 'Parent': None,\n",
       " 'Description': 'This is the root node',\n",
       " 'children': [{'Field': 'Products',\n",
       "   'Description': 'Field of product names being stored in the database',\n",
       "   'Parent': 'Root',\n",
       "   'children': [{'Field': 'Good products',\n",
       "     'Description': 'Field of products with a good rating',\n",
       "     'Parent': 'Products',\n",
       "     'children': [{'Field': 'Buon prodotto',\n",
       "       'Description': 'Colonna contenente nomi di prodotti buoni',\n",
       "       'Parent': 'Good products',\n",
       "       'children': []},\n",
       "      {'Field': 'Bueno producto',\n",
       "       'Description': 'Columna de buenos productos',\n",
       "       'Parent': 'Good products',\n",
       "       'children': []}]},\n",
       "    {'Field': 'Medium products',\n",
       "     'Description': 'Field of products with an average rating',\n",
       "     'Parent': 'Products',\n",
       "     'children': []},\n",
       "    {'Field': 'Bad products',\n",
       "     'Description': 'Field of products with a bad rating',\n",
       "     'Parent': 'Products',\n",
       "     'children': []}]},\n",
       "  {'Field': 'Street',\n",
       "   'Description': 'Field of street names belonging to addresses, being stored in the database',\n",
       "   'Parent': 'Root',\n",
       "   'children': [{'Field': 'Boulevard',\n",
       "     'Description': 'Field regarding Boulevards',\n",
       "     'Parent': 'Street',\n",
       "     'children': []}]},\n",
       "  {'Field': 'Strt',\n",
       "   'Description': 'Field regarding street name',\n",
       "   'Parent': '',\n",
       "   'children': []}]}"
      ]
     },
     "execution_count": 76,
     "metadata": {},
     "output_type": "execute_result"
    }
   ],
   "source": [
    "tree = create_tree()\n",
    "\n",
    "add_node(tree, \"Field of product names being stored in the database\", \"Products\", \"Root\")\n",
    "add_node(tree, \"Field of street names belonging to addresses, being stored in the database\", \"Street\", \"Root\")\n",
    "\n",
    "add_node(tree, \"Field of products with a good rating\", \"Good products\", \"Products\")\n",
    "add_node(tree, \"Field of products with an average rating\", \"Medium products\", \"Products\")\n",
    "add_node(tree, \"Field of products with a bad rating\", \"Bad products\", \"Products\")\n",
    "\n",
    "\n",
    "add_node(tree, \"Colonna contenente nomi di prodotti buoni\", \"Buon prodotto\", \"Good products\")\n",
    "add_node(tree, \"Columna de buenos productos\", \"Bueno producto\", \"Good products\")\n",
    "\n",
    "add_node(tree, \"Field regarding street name\", \"Strt\", \"\")\n",
    "add_node(tree, \"Field regarding Boulevards\", \"Boulevard\", \"Street\")\n"
   ]
  },
  {
   "cell_type": "code",
   "execution_count": 77,
   "metadata": {},
   "outputs": [],
   "source": [
    "def display_tree(tree, indent=0):\n",
    "    print(\" \" * indent + tree[\"Field\"])\n",
    "    children = tree[\"children\"]\n",
    "    if children:\n",
    "        for i, child in enumerate(children):\n",
    "            if i == len(children) - 1:\n",
    "                display_tree(child, indent + 4)\n",
    "                print(\" \" * (indent + 2) + \" \\\\\")\n",
    "            else:\n",
    "                display_tree(child, indent + 4)\n",
    "                print(\" \" * (indent + 2) + \" |\")"
   ]
  },
  {
   "cell_type": "code",
   "execution_count": 78,
   "metadata": {},
   "outputs": [
    {
     "name": "stdout",
     "output_type": "stream",
     "text": [
      "Root\n",
      "    Products\n",
      "        Good products\n",
      "            Buon prodotto\n",
      "           |\n",
      "            Bueno producto\n",
      "           \\\n",
      "       |\n",
      "        Medium products\n",
      "       |\n",
      "        Bad products\n",
      "       \\\n",
      "   |\n",
      "    Street\n",
      "        Boulevard\n",
      "       \\\n",
      "   |\n",
      "    Strt\n",
      "   \\\n"
     ]
    }
   ],
   "source": [
    "display_tree(tree)"
   ]
  },
  {
   "cell_type": "code",
   "execution_count": 79,
   "metadata": {},
   "outputs": [
    {
     "data": {
      "text/plain": [
       "{'Field': 'Root',\n",
       " 'Parent': None,\n",
       " 'Description': 'This is the root node',\n",
       " 'children': [{'Field': 'Products',\n",
       "   'Description': 'Field of product names being stored in the database',\n",
       "   'Parent': 'Root',\n",
       "   'children': [{'Field': 'Good products',\n",
       "     'Description': 'Field of products with a good rating',\n",
       "     'Parent': 'Products',\n",
       "     'children': [{'Field': 'Buon prodotto',\n",
       "       'Description': 'Colonna contenente nomi di prodotti buoni',\n",
       "       'Parent': 'Good products',\n",
       "       'children': []},\n",
       "      {'Field': 'Bueno producto',\n",
       "       'Description': 'Columna de buenos productos',\n",
       "       'Parent': 'Good products',\n",
       "       'children': []}]},\n",
       "    {'Field': 'Medium products',\n",
       "     'Description': 'Field of products with an average rating',\n",
       "     'Parent': 'Products',\n",
       "     'children': []},\n",
       "    {'Field': 'Bad products',\n",
       "     'Description': 'Field of products with a bad rating',\n",
       "     'Parent': 'Products',\n",
       "     'children': []}]},\n",
       "  {'Field': 'Street',\n",
       "   'Description': 'Field of street names belonging to addresses, being stored in the database',\n",
       "   'Parent': 'Root',\n",
       "   'children': [{'Field': 'Boulevard',\n",
       "     'Description': 'Field regarding Boulevards',\n",
       "     'Parent': 'Street',\n",
       "     'children': []}]},\n",
       "  {'Field': 'Strt',\n",
       "   'Description': 'Field regarding street name',\n",
       "   'Parent': '',\n",
       "   'children': []}]}"
      ]
     },
     "execution_count": 79,
     "metadata": {},
     "output_type": "execute_result"
    }
   ],
   "source": [
    "tree"
   ]
  },
  {
   "cell_type": "code",
   "execution_count": 82,
   "metadata": {},
   "outputs": [
    {
     "name": "stdout",
     "output_type": "stream",
     "text": [
      "Products\n",
      "    Good products\n",
      "        Buon prodotto\n",
      "       |\n",
      "        Bueno producto\n",
      "       \\\n",
      "   |\n",
      "    Medium products\n",
      "   |\n",
      "    Bad products\n",
      "   \\\n"
     ]
    }
   ],
   "source": [
    "result = search_node(tree, \"Products\")\n",
    "display_tree(result)"
   ]
  },
  {
   "cell_type": "code",
   "execution_count": 91,
   "metadata": {},
   "outputs": [
    {
     "ename": "TypeError",
     "evalue": "string indices must be integers",
     "output_type": "error",
     "traceback": [
      "\u001b[0;31m---------------------------------------------------------------------------\u001b[0m",
      "\u001b[0;31mTypeError\u001b[0m                                 Traceback (most recent call last)",
      "\u001b[0;32m/tmp/ipykernel_317/3366953444.py\u001b[0m in \u001b[0;36m<module>\u001b[0;34m\u001b[0m\n\u001b[0;32m----> 1\u001b[0;31m \u001b[0mremove_node\u001b[0m\u001b[0;34m(\u001b[0m\u001b[0mtree\u001b[0m\u001b[0;34m,\u001b[0m \u001b[0;34m'Street'\u001b[0m\u001b[0;34m)\u001b[0m\u001b[0;34m\u001b[0m\u001b[0;34m\u001b[0m\u001b[0m\n\u001b[0m\u001b[1;32m      2\u001b[0m \u001b[0mdisplay_tree\u001b[0m\u001b[0;34m(\u001b[0m\u001b[0mtree\u001b[0m\u001b[0;34m)\u001b[0m\u001b[0;34m\u001b[0m\u001b[0;34m\u001b[0m\u001b[0m\n",
      "\u001b[0;32m/tmp/ipykernel_317/3816109528.py\u001b[0m in \u001b[0;36mremove_node\u001b[0;34m(tree, key)\u001b[0m\n\u001b[1;32m     27\u001b[0m \u001b[0;34m\u001b[0m\u001b[0m\n\u001b[1;32m     28\u001b[0m     \u001b[0mparent\u001b[0m \u001b[0;34m=\u001b[0m \u001b[0mnode\u001b[0m\u001b[0;34m[\u001b[0m\u001b[0;34m'Parent'\u001b[0m\u001b[0;34m]\u001b[0m\u001b[0;34m\u001b[0m\u001b[0;34m\u001b[0m\u001b[0m\n\u001b[0;32m---> 29\u001b[0;31m     \u001b[0mparent\u001b[0m\u001b[0;34m[\u001b[0m\u001b[0;34m'children'\u001b[0m\u001b[0;34m]\u001b[0m\u001b[0;34m.\u001b[0m\u001b[0mremove\u001b[0m\u001b[0;34m(\u001b[0m\u001b[0mnode\u001b[0m\u001b[0;34m)\u001b[0m\u001b[0;34m\u001b[0m\u001b[0;34m\u001b[0m\u001b[0m\n\u001b[0m\u001b[1;32m     30\u001b[0m     \u001b[0;32mfor\u001b[0m \u001b[0mchild\u001b[0m \u001b[0;32min\u001b[0m \u001b[0mnode\u001b[0m\u001b[0;34m[\u001b[0m\u001b[0;34m'children'\u001b[0m\u001b[0;34m]\u001b[0m\u001b[0;34m:\u001b[0m\u001b[0;34m\u001b[0m\u001b[0;34m\u001b[0m\u001b[0m\n\u001b[1;32m     31\u001b[0m         \u001b[0mchild\u001b[0m\u001b[0;34m[\u001b[0m\u001b[0;34m'Parent'\u001b[0m\u001b[0;34m]\u001b[0m \u001b[0;34m=\u001b[0m \u001b[0mparent\u001b[0m\u001b[0;34m\u001b[0m\u001b[0;34m\u001b[0m\u001b[0m\n",
      "\u001b[0;31mTypeError\u001b[0m: string indices must be integers"
     ]
    }
   ],
   "source": [
    "remove_node(tree, 'Street')\n",
    "display_tree(tree)"
   ]
  }
 ],
 "metadata": {
  "kernelspec": {
   "display_name": "SherlockEnv",
   "language": "python",
   "name": "python3"
  },
  "language_info": {
   "codemirror_mode": {
    "name": "ipython",
    "version": 3
   },
   "file_extension": ".py",
   "mimetype": "text/x-python",
   "name": "python",
   "nbconvert_exporter": "python",
   "pygments_lexer": "ipython3",
   "version": "3.7.13"
  },
  "orig_nbformat": 4,
  "vscode": {
   "interpreter": {
    "hash": "57d0fe2675c1864a6211176a164e0da308406f51aa8b24d41036509a8cf66bc3"
   }
  }
 },
 "nbformat": 4,
 "nbformat_minor": 2
}
