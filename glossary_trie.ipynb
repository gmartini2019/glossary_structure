{
 "cells": [
  {
   "cell_type": "code",
   "execution_count": 1,
   "metadata": {},
   "outputs": [],
   "source": [
    "class TrieNode:\n",
    "    def __init__(self):\n",
    "        self.children = {}\n",
    "        self.end_of_field = False\n",
    "        self.description = \"\"\n",
    "\n",
    "class Trie:\n",
    "    def __init__(self):\n",
    "        self.root = TrieNode()\n",
    "    \n",
    "    def insert(self, field, description):\n",
    "        current = self.root\n",
    "        for char in field:\n",
    "            if char not in current.children:\n",
    "                current.children[char] = TrieNode()\n",
    "            current = current.children[char]\n",
    "        current.end_of_field = True\n",
    "        current.description = description\n",
    "    \n",
    "    def search(self, field):\n",
    "        current = self.root\n",
    "        for char in field:\n",
    "            if char not in current.children:\n",
    "                return None\n",
    "            current = current.children[char]\n",
    "        if current.end_of_word:\n",
    "            return current.description\n",
    "        return None\n",
    "    \n",
    "    def display_tree(self):\n",
    "    \n",
    "    def search_knn(self, field, k_neighbors = 1):"
   ]
  },
  {
   "cell_type": "code",
   "execution_count": 2,
   "metadata": {},
   "outputs": [],
   "source": [
    "trie = Trie()\n",
    "\n",
    "trie.insert(\"banana\", \"A long, curved fruit with a yellow skin and soft, sweet flesh.\")\n",
    "trie.insert(\"cherry\", \"A small, round fruit with a bright red skin and a sweet, juicy flesh.\")\n",
    "trie.insert(\"date\", \"A sweet, brown fruit from a palm tree.\")\n",
    "\n",
    "#neighbors = trie.search_knn(\"appl\", 3)\n",
    "\n",
    "#print(\"Nearest neighbors:\")\n",
    "#for i, neighbor in enumerate(neighbors):\n",
    "    #print(f\"{i + 1}. {neighbor}\")\n"
   ]
  }
 ],
 "metadata": {
  "kernelspec": {
   "display_name": "SherlockEnv",
   "language": "python",
   "name": "python3"
  },
  "language_info": {
   "codemirror_mode": {
    "name": "ipython",
    "version": 3
   },
   "file_extension": ".py",
   "mimetype": "text/x-python",
   "name": "python",
   "nbconvert_exporter": "python",
   "pygments_lexer": "ipython3",
   "version": "3.7.13"
  },
  "orig_nbformat": 4,
  "vscode": {
   "interpreter": {
    "hash": "57d0fe2675c1864a6211176a164e0da308406f51aa8b24d41036509a8cf66bc3"
   }
  }
 },
 "nbformat": 4,
 "nbformat_minor": 2
}
